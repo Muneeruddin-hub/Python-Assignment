{
 "cells": [
  {
   "cell_type": "markdown",
   "metadata": {},
   "source": [
    "1.1 Write a Python Program to implement your own myreduce() function which works exactly  like Python's built-in function reduce()"
   ]
  },
  {
   "cell_type": "code",
   "execution_count": 49,
   "metadata": {},
   "outputs": [
    {
     "name": "stdout",
     "output_type": "stream",
     "text": [
      "Enter the value2\n",
      "sum of element value is: 3\n"
     ]
    }
   ],
   "source": [
    "number=int(input('Enter the value'))\n",
    "num_list=list(range(1,number+1))\n",
    "\n",
    "def my_reduce(number):\n",
    "    sum_of_element=0\n",
    "    \n",
    "    for i in num_list:\n",
    "        sum_of_element +=i\n",
    "    return sum_of_element\n",
    "\n",
    "output=my_reduce(number)\n",
    "\n",
    "print('sum of element value is:',output)\n"
   ]
  },
  {
   "cell_type": "markdown",
   "metadata": {},
   "source": [
    "1.2 Write a Python program to implement your own myfilter() function which works exactly  like Python's built-in function filter()"
   ]
  },
  {
   "cell_type": "code",
   "execution_count": 59,
   "metadata": {},
   "outputs": [
    {
     "name": "stdout",
     "output_type": "stream",
     "text": [
      "Enter the value20\n",
      "List of Even numbers which are multiples of 5 are: [10, 20]\n",
      "List of Odd numbers which are multiples of 5 are: [5, 15]\n"
     ]
    }
   ],
   "source": [
    "numbers=int(input('Enter the value'))\n",
    "num_list=list(range(1,numbers+1))\n",
    "\n",
    "def my_filter(num_list):\n",
    "    num_even_list=[]\n",
    "    num_odd_list=[]\n",
    "    \n",
    "    for i in num_list:\n",
    "        if i % 5 ==0:\n",
    "            if i % 2 !=0:\n",
    "                num_odd_list.append(i)\n",
    "            else:\n",
    "                num_even_list.append(i)\n",
    "                \n",
    "    return num_even_list,num_odd_list\n",
    "    \n",
    "output=my_filter(num_list)\n",
    "\n",
    "print(\"List of Even numbers which are multiples of 5 are:\",output[0])\n",
    "print(\"List of Odd numbers which are multiples of 5 are:\",output[1])\n",
    "    "
   ]
  },
  {
   "cell_type": "markdown",
   "metadata": {},
   "source": [
    "2. Implement List comprehensions to produce the following lists.\n",
    "\n",
    "Write List comprehensions to produce the following Lists\n",
    "\n",
    "['A', 'C', 'A', 'D', 'G', 'I', ’L’, ‘ D’] \n",
    "['x', 'xx', 'xxx', 'xxxx', 'y', 'yy', 'yyy', 'yyyy', 'z', 'zz', 'zzz', 'zzzz']  \n",
    "['x', 'y', 'z', 'xx', 'yy', 'zz', 'xxx', 'yyy', 'zzz', 'xxxx', 'yyyy', 'zzzz']  \n",
    "[[2], [3], [4], [3], [4], [5], [4], [5], [6]] [[2, 3, 4, 5], [3, 4, 5, 6],  \n",
    "[4, 5, 6, 7], [5, 6, 7, 8]] \n"
   ]
  },
  {
   "cell_type": "code",
   "execution_count": 62,
   "metadata": {},
   "outputs": [
    {
     "name": "stdout",
     "output_type": "stream",
     "text": [
      "['A', 'C', 'A', 'D', 'G', 'I', 'L', 'D']\n",
      "['x', 'xx', 'xxx', 'xxxx', 'y', 'yy', 'yyy', 'yyyy', 'z', 'zz', 'zzz', 'zzzz']\n",
      "['x', 'y', 'z', 'xx', 'yy', 'zz', 'xxx', 'yyy', 'zzz', 'xxxx', 'yyyy', 'zzzz']\n",
      "[[2], [3], [4], [3], [4], [5], [4], [5], [6]]\n",
      "[[2, 3, 4, 5], [3, 4, 5, 6], [4, 5, 6, 7], [5, 6, 7, 8]]\n",
      "[(1, 1), (2, 1), (3, 1), (1, 2), (2, 2), (3, 2), (1, 3), (2, 3), (3, 3)]\n"
     ]
    }
   ],
   "source": [
    "alph=\"AcadGild\"\n",
    "output=[x.upper() for x in alph]\n",
    "print(output)\n",
    "\n",
    "sig='xyz'\n",
    "output2=[x*n for x in sig for n in range(1,5) ]\n",
    "output3=[x*n for n in range(1,5) for x in sig ]\n",
    "print(output2)\n",
    "print(output3)\n",
    "\n",
    "number=[2,3,4]\n",
    "output4=[[x+n] for x in number for n in range(0,3)]\n",
    "print(output4)\n",
    "\n",
    "set1=[2,3,4,5]\n",
    "output5=[[x+n for n in range(0,4)] for x in set1 ]\n",
    "print(output5)\n",
    "\n",
    "set2=[1,2,3]\n",
    "output6= [(x,y) for y in set2 for x in set2]\n",
    "print(output6)"
   ]
  },
  {
   "cell_type": "code",
   "execution_count": null,
   "metadata": {},
   "outputs": [],
   "source": []
  }
 ],
 "metadata": {
  "kernelspec": {
   "display_name": "Python 3",
   "language": "python",
   "name": "python3"
  },
  "language_info": {
   "codemirror_mode": {
    "name": "ipython",
    "version": 3
   },
   "file_extension": ".py",
   "mimetype": "text/x-python",
   "name": "python",
   "nbconvert_exporter": "python",
   "pygments_lexer": "ipython3",
   "version": "3.8.3"
  }
 },
 "nbformat": 4,
 "nbformat_minor": 4
}
